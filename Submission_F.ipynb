{
 "cells": [
  {
   "cell_type": "code",
   "execution_count": 1,
   "metadata": {},
   "outputs": [],
   "source": [
    "import pandas as pd\n",
    "import numpy as np\n",
    "from sklearn.model_selection import cross_val_predict\n",
    "from sklearn.metrics import confusion_matrix\n",
    "from sklearn.preprocessing import StandardScaler\n",
    "import matplotlib.pyplot as plt\n",
    "import seaborn as sns\n",
    "from sklearn.linear_model import LogisticRegression\n",
    "from sklearn.discriminant_analysis import LinearDiscriminantAnalysis\n",
    "from sklearn import linear_model"
   ]
  },
  {
   "cell_type": "markdown",
   "metadata": {},
   "source": [
    "# Prepare Data for EDA"
   ]
  },
  {
   "cell_type": "code",
   "execution_count": 2,
   "metadata": {},
   "outputs": [],
   "source": [
    "#load the cleaned lending club data set\n",
    "df1 = pd.read_csv('Loan1.csv')\n",
    "df2 = pd.read_csv('Loan2.csv')"
   ]
  },
  {
   "cell_type": "code",
   "execution_count": 7,
   "metadata": {},
   "outputs": [
    {
     "data": {
      "text/html": [
       "<div>\n",
       "<style scoped>\n",
       "    .dataframe tbody tr th:only-of-type {\n",
       "        vertical-align: middle;\n",
       "    }\n",
       "\n",
       "    .dataframe tbody tr th {\n",
       "        vertical-align: top;\n",
       "    }\n",
       "\n",
       "    .dataframe thead th {\n",
       "        text-align: right;\n",
       "    }\n",
       "</style>\n",
       "<table border=\"1\" class=\"dataframe\">\n",
       "  <thead>\n",
       "    <tr style=\"text-align: right;\">\n",
       "      <th></th>\n",
       "      <th>id</th>\n",
       "      <th>loan_status</th>\n",
       "      <th>loan_amnt</th>\n",
       "      <th>term</th>\n",
       "      <th>int_rate</th>\n",
       "      <th>grade</th>\n",
       "      <th>sub_grade</th>\n",
       "      <th>installment</th>\n",
       "      <th>pymnt_plan</th>\n",
       "      <th>annual_inc</th>\n",
       "      <th>...</th>\n",
       "      <th>pub_rec_bankruptcies</th>\n",
       "      <th>revol_bal</th>\n",
       "      <th>revol_util</th>\n",
       "      <th>tax_liens</th>\n",
       "      <th>tot_cur_bal</th>\n",
       "      <th>tot_hi_cred_lim</th>\n",
       "      <th>total_acc</th>\n",
       "      <th>total_bal_ex_mort</th>\n",
       "      <th>total_bal_il</th>\n",
       "      <th>total_bc_limit</th>\n",
       "    </tr>\n",
       "  </thead>\n",
       "  <tbody>\n",
       "    <tr>\n",
       "      <th>0</th>\n",
       "      <td>114133086</td>\n",
       "      <td>Current</td>\n",
       "      <td>18000.0</td>\n",
       "      <td>36</td>\n",
       "      <td>11.99</td>\n",
       "      <td>1</td>\n",
       "      <td>9</td>\n",
       "      <td>597.78</td>\n",
       "      <td>0</td>\n",
       "      <td>40800.0</td>\n",
       "      <td>...</td>\n",
       "      <td>0.0</td>\n",
       "      <td>11022.0</td>\n",
       "      <td>62.6</td>\n",
       "      <td>0.0</td>\n",
       "      <td>73967.0</td>\n",
       "      <td>92443.0</td>\n",
       "      <td>67.0</td>\n",
       "      <td>73967.0</td>\n",
       "      <td>62945.0</td>\n",
       "      <td>12700.0</td>\n",
       "    </tr>\n",
       "    <tr>\n",
       "      <th>1</th>\n",
       "      <td>113327093</td>\n",
       "      <td>Current</td>\n",
       "      <td>36000.0</td>\n",
       "      <td>36</td>\n",
       "      <td>16.02</td>\n",
       "      <td>2</td>\n",
       "      <td>14</td>\n",
       "      <td>1266.01</td>\n",
       "      <td>0</td>\n",
       "      <td>98000.0</td>\n",
       "      <td>...</td>\n",
       "      <td>0.0</td>\n",
       "      <td>24455.0</td>\n",
       "      <td>63.5</td>\n",
       "      <td>0.0</td>\n",
       "      <td>37296.0</td>\n",
       "      <td>55621.0</td>\n",
       "      <td>28.0</td>\n",
       "      <td>37296.0</td>\n",
       "      <td>12841.0</td>\n",
       "      <td>17200.0</td>\n",
       "    </tr>\n",
       "    <tr>\n",
       "      <th>2</th>\n",
       "      <td>119396821</td>\n",
       "      <td>Current</td>\n",
       "      <td>1200.0</td>\n",
       "      <td>36</td>\n",
       "      <td>16.02</td>\n",
       "      <td>2</td>\n",
       "      <td>14</td>\n",
       "      <td>42.21</td>\n",
       "      <td>0</td>\n",
       "      <td>48000.0</td>\n",
       "      <td>...</td>\n",
       "      <td>0.0</td>\n",
       "      <td>8371.0</td>\n",
       "      <td>85.4</td>\n",
       "      <td>0.0</td>\n",
       "      <td>24227.0</td>\n",
       "      <td>35259.0</td>\n",
       "      <td>24.0</td>\n",
       "      <td>24227.0</td>\n",
       "      <td>15856.0</td>\n",
       "      <td>7800.0</td>\n",
       "    </tr>\n",
       "    <tr>\n",
       "      <th>3</th>\n",
       "      <td>113509028</td>\n",
       "      <td>Current</td>\n",
       "      <td>24000.0</td>\n",
       "      <td>60</td>\n",
       "      <td>10.42</td>\n",
       "      <td>1</td>\n",
       "      <td>7</td>\n",
       "      <td>514.91</td>\n",
       "      <td>0</td>\n",
       "      <td>63000.0</td>\n",
       "      <td>...</td>\n",
       "      <td>0.0</td>\n",
       "      <td>6162.0</td>\n",
       "      <td>38.3</td>\n",
       "      <td>0.0</td>\n",
       "      <td>124925.0</td>\n",
       "      <td>196850.0</td>\n",
       "      <td>15.0</td>\n",
       "      <td>6612.0</td>\n",
       "      <td>0.0</td>\n",
       "      <td>13500.0</td>\n",
       "    </tr>\n",
       "    <tr>\n",
       "      <th>4</th>\n",
       "      <td>114749248</td>\n",
       "      <td>Current</td>\n",
       "      <td>12000.0</td>\n",
       "      <td>36</td>\n",
       "      <td>7.07</td>\n",
       "      <td>0</td>\n",
       "      <td>1</td>\n",
       "      <td>370.91</td>\n",
       "      <td>0</td>\n",
       "      <td>120000.0</td>\n",
       "      <td>...</td>\n",
       "      <td>0.0</td>\n",
       "      <td>15025.0</td>\n",
       "      <td>26.7</td>\n",
       "      <td>0.0</td>\n",
       "      <td>15720.0</td>\n",
       "      <td>57242.0</td>\n",
       "      <td>12.0</td>\n",
       "      <td>15720.0</td>\n",
       "      <td>0.0</td>\n",
       "      <td>47800.0</td>\n",
       "    </tr>\n",
       "  </tbody>\n",
       "</table>\n",
       "<p>5 rows × 48 columns</p>\n",
       "</div>"
      ],
      "text/plain": [
       "          id loan_status  loan_amnt  term  int_rate  grade  sub_grade  \\\n",
       "0  114133086     Current    18000.0    36     11.99      1          9   \n",
       "1  113327093     Current    36000.0    36     16.02      2         14   \n",
       "2  119396821     Current     1200.0    36     16.02      2         14   \n",
       "3  113509028     Current    24000.0    60     10.42      1          7   \n",
       "4  114749248     Current    12000.0    36      7.07      0          1   \n",
       "\n",
       "   installment  pymnt_plan  annual_inc       ...        pub_rec_bankruptcies  \\\n",
       "0       597.78           0     40800.0       ...                         0.0   \n",
       "1      1266.01           0     98000.0       ...                         0.0   \n",
       "2        42.21           0     48000.0       ...                         0.0   \n",
       "3       514.91           0     63000.0       ...                         0.0   \n",
       "4       370.91           0    120000.0       ...                         0.0   \n",
       "\n",
       "   revol_bal  revol_util  tax_liens  tot_cur_bal  tot_hi_cred_lim  total_acc  \\\n",
       "0    11022.0        62.6        0.0      73967.0          92443.0       67.0   \n",
       "1    24455.0        63.5        0.0      37296.0          55621.0       28.0   \n",
       "2     8371.0        85.4        0.0      24227.0          35259.0       24.0   \n",
       "3     6162.0        38.3        0.0     124925.0         196850.0       15.0   \n",
       "4    15025.0        26.7        0.0      15720.0          57242.0       12.0   \n",
       "\n",
       "   total_bal_ex_mort  total_bal_il  total_bc_limit  \n",
       "0            73967.0       62945.0         12700.0  \n",
       "1            37296.0       12841.0         17200.0  \n",
       "2            24227.0       15856.0          7800.0  \n",
       "3             6612.0           0.0         13500.0  \n",
       "4            15720.0           0.0         47800.0  \n",
       "\n",
       "[5 rows x 48 columns]"
      ]
     },
     "execution_count": 7,
     "metadata": {},
     "output_type": "execute_result"
    }
   ],
   "source": [
    "df1.head()"
   ]
  },
  {
   "cell_type": "code",
   "execution_count": 6,
   "metadata": {},
   "outputs": [],
   "source": [
    "df1 = pd.get_dummies(df1, columns=['loan_status'])"
   ]
  },
  {
   "cell_type": "code",
   "execution_count": 7,
   "metadata": {},
   "outputs": [],
   "source": [
    "df1=df1.drop(['loan_status_Current'], axis=1)"
   ]
  },
  {
   "cell_type": "code",
   "execution_count": 8,
   "metadata": {},
   "outputs": [],
   "source": [
    "#convert it to csv to do EDA with deplyr in R\n",
    "df1.to_csv('lending_club_training.csv')"
   ]
  },
  {
   "cell_type": "code",
   "execution_count": 9,
   "metadata": {},
   "outputs": [
    {
     "data": {
      "text/plain": [
       "(61072, 48)"
      ]
     },
     "execution_count": 9,
     "metadata": {},
     "output_type": "execute_result"
    }
   ],
   "source": [
    "df1.shape"
   ]
  },
  {
   "cell_type": "markdown",
   "metadata": {},
   "source": [
    "# Filter for Term = 36"
   ]
  },
  {
   "cell_type": "code",
   "execution_count": 10,
   "metadata": {},
   "outputs": [],
   "source": [
    "df1_30 =  df1.loc[df1['term']==36]"
   ]
  },
  {
   "cell_type": "code",
   "execution_count": 11,
   "metadata": {},
   "outputs": [
    {
     "data": {
      "text/html": [
       "<div>\n",
       "<style scoped>\n",
       "    .dataframe tbody tr th:only-of-type {\n",
       "        vertical-align: middle;\n",
       "    }\n",
       "\n",
       "    .dataframe tbody tr th {\n",
       "        vertical-align: top;\n",
       "    }\n",
       "\n",
       "    .dataframe thead th {\n",
       "        text-align: right;\n",
       "    }\n",
       "</style>\n",
       "<table border=\"1\" class=\"dataframe\">\n",
       "  <thead>\n",
       "    <tr style=\"text-align: right;\">\n",
       "      <th></th>\n",
       "      <th>id</th>\n",
       "      <th>loan_amnt</th>\n",
       "      <th>term</th>\n",
       "      <th>int_rate</th>\n",
       "      <th>grade</th>\n",
       "      <th>sub_grade</th>\n",
       "      <th>installment</th>\n",
       "      <th>pymnt_plan</th>\n",
       "      <th>annual_inc</th>\n",
       "      <th>emp_length</th>\n",
       "      <th>...</th>\n",
       "      <th>revol_bal</th>\n",
       "      <th>revol_util</th>\n",
       "      <th>tax_liens</th>\n",
       "      <th>tot_cur_bal</th>\n",
       "      <th>tot_hi_cred_lim</th>\n",
       "      <th>total_acc</th>\n",
       "      <th>total_bal_ex_mort</th>\n",
       "      <th>total_bal_il</th>\n",
       "      <th>total_bc_limit</th>\n",
       "      <th>loan_status_Fail</th>\n",
       "    </tr>\n",
       "  </thead>\n",
       "  <tbody>\n",
       "    <tr>\n",
       "      <th>0</th>\n",
       "      <td>114133086</td>\n",
       "      <td>18000.0</td>\n",
       "      <td>36</td>\n",
       "      <td>11.99</td>\n",
       "      <td>1</td>\n",
       "      <td>9</td>\n",
       "      <td>597.78</td>\n",
       "      <td>0</td>\n",
       "      <td>40800.0</td>\n",
       "      <td>0</td>\n",
       "      <td>...</td>\n",
       "      <td>11022.0</td>\n",
       "      <td>62.6</td>\n",
       "      <td>0.0</td>\n",
       "      <td>73967.0</td>\n",
       "      <td>92443.0</td>\n",
       "      <td>67.0</td>\n",
       "      <td>73967.0</td>\n",
       "      <td>62945.0</td>\n",
       "      <td>12700.0</td>\n",
       "      <td>0</td>\n",
       "    </tr>\n",
       "    <tr>\n",
       "      <th>1</th>\n",
       "      <td>113327093</td>\n",
       "      <td>36000.0</td>\n",
       "      <td>36</td>\n",
       "      <td>16.02</td>\n",
       "      <td>2</td>\n",
       "      <td>14</td>\n",
       "      <td>1266.01</td>\n",
       "      <td>0</td>\n",
       "      <td>98000.0</td>\n",
       "      <td>10</td>\n",
       "      <td>...</td>\n",
       "      <td>24455.0</td>\n",
       "      <td>63.5</td>\n",
       "      <td>0.0</td>\n",
       "      <td>37296.0</td>\n",
       "      <td>55621.0</td>\n",
       "      <td>28.0</td>\n",
       "      <td>37296.0</td>\n",
       "      <td>12841.0</td>\n",
       "      <td>17200.0</td>\n",
       "      <td>0</td>\n",
       "    </tr>\n",
       "    <tr>\n",
       "      <th>2</th>\n",
       "      <td>119396821</td>\n",
       "      <td>1200.0</td>\n",
       "      <td>36</td>\n",
       "      <td>16.02</td>\n",
       "      <td>2</td>\n",
       "      <td>14</td>\n",
       "      <td>42.21</td>\n",
       "      <td>0</td>\n",
       "      <td>48000.0</td>\n",
       "      <td>1</td>\n",
       "      <td>...</td>\n",
       "      <td>8371.0</td>\n",
       "      <td>85.4</td>\n",
       "      <td>0.0</td>\n",
       "      <td>24227.0</td>\n",
       "      <td>35259.0</td>\n",
       "      <td>24.0</td>\n",
       "      <td>24227.0</td>\n",
       "      <td>15856.0</td>\n",
       "      <td>7800.0</td>\n",
       "      <td>0</td>\n",
       "    </tr>\n",
       "    <tr>\n",
       "      <th>4</th>\n",
       "      <td>114749248</td>\n",
       "      <td>12000.0</td>\n",
       "      <td>36</td>\n",
       "      <td>7.07</td>\n",
       "      <td>0</td>\n",
       "      <td>1</td>\n",
       "      <td>370.91</td>\n",
       "      <td>0</td>\n",
       "      <td>120000.0</td>\n",
       "      <td>4</td>\n",
       "      <td>...</td>\n",
       "      <td>15025.0</td>\n",
       "      <td>26.7</td>\n",
       "      <td>0.0</td>\n",
       "      <td>15720.0</td>\n",
       "      <td>57242.0</td>\n",
       "      <td>12.0</td>\n",
       "      <td>15720.0</td>\n",
       "      <td>0.0</td>\n",
       "      <td>47800.0</td>\n",
       "      <td>0</td>\n",
       "    </tr>\n",
       "    <tr>\n",
       "      <th>6</th>\n",
       "      <td>116807551</td>\n",
       "      <td>2400.0</td>\n",
       "      <td>36</td>\n",
       "      <td>7.35</td>\n",
       "      <td>0</td>\n",
       "      <td>3</td>\n",
       "      <td>74.49</td>\n",
       "      <td>0</td>\n",
       "      <td>55000.0</td>\n",
       "      <td>2</td>\n",
       "      <td>...</td>\n",
       "      <td>15573.0</td>\n",
       "      <td>86.5</td>\n",
       "      <td>0.0</td>\n",
       "      <td>156278.0</td>\n",
       "      <td>183000.0</td>\n",
       "      <td>18.0</td>\n",
       "      <td>22874.0</td>\n",
       "      <td>7301.0</td>\n",
       "      <td>9800.0</td>\n",
       "      <td>0</td>\n",
       "    </tr>\n",
       "  </tbody>\n",
       "</table>\n",
       "<p>5 rows × 48 columns</p>\n",
       "</div>"
      ],
      "text/plain": [
       "          id  loan_amnt  term  int_rate  grade  sub_grade  installment  \\\n",
       "0  114133086    18000.0    36     11.99      1          9       597.78   \n",
       "1  113327093    36000.0    36     16.02      2         14      1266.01   \n",
       "2  119396821     1200.0    36     16.02      2         14        42.21   \n",
       "4  114749248    12000.0    36      7.07      0          1       370.91   \n",
       "6  116807551     2400.0    36      7.35      0          3        74.49   \n",
       "\n",
       "   pymnt_plan  annual_inc  emp_length        ...         revol_bal  \\\n",
       "0           0     40800.0           0        ...           11022.0   \n",
       "1           0     98000.0          10        ...           24455.0   \n",
       "2           0     48000.0           1        ...            8371.0   \n",
       "4           0    120000.0           4        ...           15025.0   \n",
       "6           0     55000.0           2        ...           15573.0   \n",
       "\n",
       "   revol_util  tax_liens  tot_cur_bal  tot_hi_cred_lim  total_acc  \\\n",
       "0        62.6        0.0      73967.0          92443.0       67.0   \n",
       "1        63.5        0.0      37296.0          55621.0       28.0   \n",
       "2        85.4        0.0      24227.0          35259.0       24.0   \n",
       "4        26.7        0.0      15720.0          57242.0       12.0   \n",
       "6        86.5        0.0     156278.0         183000.0       18.0   \n",
       "\n",
       "   total_bal_ex_mort  total_bal_il  total_bc_limit  loan_status_Fail  \n",
       "0            73967.0       62945.0         12700.0                 0  \n",
       "1            37296.0       12841.0         17200.0                 0  \n",
       "2            24227.0       15856.0          7800.0                 0  \n",
       "4            15720.0           0.0         47800.0                 0  \n",
       "6            22874.0        7301.0          9800.0                 0  \n",
       "\n",
       "[5 rows x 48 columns]"
      ]
     },
     "execution_count": 11,
     "metadata": {},
     "output_type": "execute_result"
    }
   ],
   "source": [
    "df1_30.head()"
   ]
  },
  {
   "cell_type": "markdown",
   "metadata": {},
   "source": [
    "# x and y for Variable Selection and Training Data "
   ]
  },
  {
   "cell_type": "markdown",
   "metadata": {},
   "source": [
    "#! encoded training data sets are accidentially called test and test is called vali later on!"
   ]
  },
  {
   "cell_type": "code",
   "execution_count": 12,
   "metadata": {},
   "outputs": [],
   "source": [
    "#shuffle data\n",
    "df1_30 = df1_30.sample(frac=1)"
   ]
  },
  {
   "cell_type": "code",
   "execution_count": 13,
   "metadata": {},
   "outputs": [],
   "source": [
    "df1_30.shape\n",
    "df1_30.to_csv('final_test_data_set.csv')"
   ]
  },
  {
   "cell_type": "code",
   "execution_count": 14,
   "metadata": {},
   "outputs": [],
   "source": [
    "y = df1_30.loan_status_Fail"
   ]
  },
  {
   "cell_type": "code",
   "execution_count": 15,
   "metadata": {},
   "outputs": [],
   "source": [
    "x= df1_30.drop(['id', 'loan_status_Fail', 'term'], axis=1)"
   ]
  },
  {
   "cell_type": "code",
   "execution_count": 16,
   "metadata": {},
   "outputs": [],
   "source": [
    "#splitting df1_30 into a sub-dataset to do the feature selection and into a sub-dataset to do the model selection\n",
    "y_fs = y.iloc[:7500]\n",
    "y_test = y.iloc[7501:]\n",
    "x_fs = x.iloc[:7500]\n",
    "x_test = x.iloc[7501:]\n",
    "\n",
    "\n",
    "df1_30_test = df1_30.iloc[7501:]\n",
    "\n",
    "y_test2 = df1_30_test.loan_status_Fail\n",
    "\n",
    "#grade0\n",
    "test_grade0 = df1_30_test.loc[df1_30_test['grade']==0]\n",
    "x_test_grade0 = x_test.loc[x_test['grade']==0]\n",
    "y_test_grade0 = test_grade0.loan_status_Fail\n",
    "\n",
    "\n",
    "#grade1\n",
    "test_grade1 = df1_30_test.loc[df1_30_test['grade']==1]\n",
    "x_test_grade1 = x_test.loc[x_test['grade']==1]\n",
    "y_test_grade1 = test_grade1.loan_status_Fail\n",
    "\n",
    "\n",
    "#grade2\n",
    "test_grade2 = df1_30_test.loc[df1_30_test['grade']==2]\n",
    "x_test_grade2 = x_test.loc[x_test['grade']==2]\n",
    "y_test_grade2 = test_grade2.loan_status_Fail\n",
    "\n",
    "\n",
    "#grade3\n",
    "test_grade3 = df1_30_test.loc[df1_30_test['grade']==3]\n",
    "x_test_grade3 = x_test.loc[x_test['grade']==3]\n",
    "y_test_grade3 = test_grade3.loan_status_Fail\n",
    "\n",
    "\n",
    "#grade4\n",
    "test_grade4 = df1_30_test.loc[df1_30_test['grade']==4]\n",
    "x_test_grade4 = x_test.loc[x_test['grade']==4]\n",
    "y_test_grade4 = test_grade4.loan_status_Fail\n",
    "\n",
    "\n",
    "#grade5\n",
    "test_grade5 = df1_30_test.loc[df1_30_test['grade']==5]\n",
    "x_test_grade5 = x_test.loc[x_test['grade']==5]\n",
    "y_test_grade5 = test_grade5.loan_status_Fail\n",
    "\n",
    "\n",
    "#grade6\n",
    "test_grade6 = df1_30_test.loc[df1_30_test['grade']==6]\n",
    "x_test_grade6 = x_test.loc[x_test['grade']==6]\n",
    "y_test_grade6 = test_grade6.loan_status_Fail"
   ]
  },
  {
   "cell_type": "markdown",
   "metadata": {},
   "source": [
    "# Feature Selection (Lasso)"
   ]
  },
  {
   "cell_type": "code",
   "execution_count": 17,
   "metadata": {},
   "outputs": [
    {
     "name": "stdout",
     "output_type": "stream",
     "text": [
      "10 [ 3.04430126e-06  0.00000000e+00  0.00000000e+00  0.00000000e+00\n",
      "  0.00000000e+00  0.00000000e+00 -9.48757566e-08 -0.00000000e+00\n",
      "  0.00000000e+00 -0.00000000e+00  0.00000000e+00  0.00000000e+00\n",
      "  0.00000000e+00  0.00000000e+00 -1.52215831e-06  0.00000000e+00\n",
      "  3.31537397e-06  0.00000000e+00  0.00000000e+00  0.00000000e+00\n",
      " -2.28260132e-06  0.00000000e+00  0.00000000e+00  0.00000000e+00\n",
      " -0.00000000e+00  0.00000000e+00  0.00000000e+00  0.00000000e+00\n",
      "  0.00000000e+00  0.00000000e+00 -0.00000000e+00  0.00000000e+00\n",
      "  0.00000000e+00  0.00000000e+00  0.00000000e+00  0.00000000e+00\n",
      "  1.15693078e-06  0.00000000e+00  0.00000000e+00  6.69223940e-07\n",
      " -5.98151092e-07  0.00000000e+00 -4.79247773e-08 -0.00000000e+00\n",
      " -1.00455868e-06]\n",
      "20 [ 2.78019016e-06  0.00000000e+00  0.00000000e+00  0.00000000e+00\n",
      "  0.00000000e+00  0.00000000e+00 -9.44014539e-08 -0.00000000e+00\n",
      "  0.00000000e+00 -0.00000000e+00  0.00000000e+00  0.00000000e+00\n",
      "  0.00000000e+00  0.00000000e+00 -1.39035537e-06  0.00000000e+00\n",
      "  2.01849079e-06  0.00000000e+00  0.00000000e+00  0.00000000e+00\n",
      " -1.26592903e-06  0.00000000e+00  0.00000000e+00  0.00000000e+00\n",
      " -0.00000000e+00  0.00000000e+00  0.00000000e+00  0.00000000e+00\n",
      "  0.00000000e+00  0.00000000e+00 -0.00000000e+00  0.00000000e+00\n",
      "  0.00000000e+00  0.00000000e+00  0.00000000e+00  0.00000000e+00\n",
      "  1.00321420e-06  0.00000000e+00  0.00000000e+00  6.08441518e-07\n",
      " -5.53073592e-07  0.00000000e+00 -2.58440046e-08 -0.00000000e+00\n",
      " -1.03541985e-06]\n",
      "30 [ 2.51715117e-06  0.00000000e+00  0.00000000e+00  0.00000000e+00\n",
      "  0.00000000e+00  0.00000000e+00 -9.34334457e-08 -0.00000000e+00\n",
      "  0.00000000e+00 -0.00000000e+00  0.00000000e+00  0.00000000e+00\n",
      "  0.00000000e+00  0.00000000e+00 -1.26677654e-06  0.00000000e+00\n",
      "  7.19530036e-07  0.00000000e+00  0.00000000e+00  0.00000000e+00\n",
      " -2.47254321e-07  0.00000000e+00  0.00000000e+00  0.00000000e+00\n",
      " -0.00000000e+00  0.00000000e+00  0.00000000e+00  0.00000000e+00\n",
      "  0.00000000e+00  0.00000000e+00 -0.00000000e+00  0.00000000e+00\n",
      "  0.00000000e+00  0.00000000e+00  0.00000000e+00  0.00000000e+00\n",
      "  8.43220042e-07  0.00000000e+00  0.00000000e+00  5.51203070e-07\n",
      " -5.09999465e-07  0.00000000e+00 -0.00000000e+00 -1.06073545e-08\n",
      " -1.06543222e-06]\n",
      "40 [ 2.31114982e-06  0.00000000e+00  0.00000000e+00  0.00000000e+00\n",
      "  0.00000000e+00  0.00000000e+00 -8.54617243e-08 -0.00000000e+00\n",
      "  0.00000000e+00 -0.00000000e+00  0.00000000e+00  0.00000000e+00\n",
      "  0.00000000e+00  0.00000000e+00 -1.09225847e-06  0.00000000e+00\n",
      "  0.00000000e+00  0.00000000e+00  0.00000000e+00  0.00000000e+00\n",
      " -0.00000000e+00  0.00000000e+00  0.00000000e+00  0.00000000e+00\n",
      " -0.00000000e+00  0.00000000e+00  0.00000000e+00  0.00000000e+00\n",
      "  0.00000000e+00  0.00000000e+00 -0.00000000e+00  0.00000000e+00\n",
      "  0.00000000e+00  0.00000000e+00  0.00000000e+00  0.00000000e+00\n",
      "  7.93031002e-07  0.00000000e+00  0.00000000e+00  5.07782786e-07\n",
      " -4.84123913e-07  0.00000000e+00 -0.00000000e+00 -0.00000000e+00\n",
      " -1.03708295e-06]\n",
      "50 [ 2.13152860e-06  0.00000000e+00  0.00000000e+00  0.00000000e+00\n",
      "  0.00000000e+00  0.00000000e+00 -7.39200725e-08 -0.00000000e+00\n",
      "  0.00000000e+00 -0.00000000e+00  0.00000000e+00  0.00000000e+00\n",
      "  0.00000000e+00  0.00000000e+00 -9.14386373e-07  0.00000000e+00\n",
      "  0.00000000e+00  0.00000000e+00  0.00000000e+00  0.00000000e+00\n",
      " -0.00000000e+00  0.00000000e+00  0.00000000e+00  0.00000000e+00\n",
      " -0.00000000e+00  0.00000000e+00  0.00000000e+00  0.00000000e+00\n",
      "  0.00000000e+00  0.00000000e+00 -0.00000000e+00  0.00000000e+00\n",
      "  0.00000000e+00  0.00000000e+00  0.00000000e+00  0.00000000e+00\n",
      "  7.62765636e-07  0.00000000e+00  0.00000000e+00  4.74645046e-07\n",
      " -4.67743146e-07  0.00000000e+00  0.00000000e+00 -0.00000000e+00\n",
      " -9.90086633e-07]\n",
      "60 [ 1.95190814e-06  0.00000000e+00  0.00000000e+00  0.00000000e+00\n",
      "  0.00000000e+00  0.00000000e+00 -6.23777235e-08 -0.00000000e+00\n",
      "  0.00000000e+00 -0.00000000e+00  0.00000000e+00  0.00000000e+00\n",
      "  0.00000000e+00  0.00000000e+00 -7.36529523e-07  0.00000000e+00\n",
      "  0.00000000e+00  0.00000000e+00  0.00000000e+00  0.00000000e+00\n",
      " -0.00000000e+00  0.00000000e+00  0.00000000e+00  0.00000000e+00\n",
      " -0.00000000e+00  0.00000000e+00  0.00000000e+00  0.00000000e+00\n",
      "  0.00000000e+00  0.00000000e+00  0.00000000e+00  0.00000000e+00\n",
      "  0.00000000e+00  0.00000000e+00  0.00000000e+00  0.00000000e+00\n",
      "  7.32495597e-07  0.00000000e+00  0.00000000e+00  4.41524619e-07\n",
      " -4.51377046e-07  0.00000000e+00  0.00000000e+00  0.00000000e+00\n",
      " -9.43077373e-07]\n",
      "70 [ 1.77228631e-06  0.00000000e+00  0.00000000e+00  0.00000000e+00\n",
      "  0.00000000e+00  0.00000000e+00 -5.08366257e-08 -0.00000000e+00\n",
      "  0.00000000e+00 -0.00000000e+00  0.00000000e+00  0.00000000e+00\n",
      "  0.00000000e+00  0.00000000e+00 -5.58645303e-07  0.00000000e+00\n",
      "  0.00000000e+00  0.00000000e+00  0.00000000e+00  0.00000000e+00\n",
      " -0.00000000e+00  0.00000000e+00  0.00000000e+00  0.00000000e+00\n",
      " -0.00000000e+00  0.00000000e+00  0.00000000e+00  0.00000000e+00\n",
      "  0.00000000e+00  0.00000000e+00  0.00000000e+00  0.00000000e+00\n",
      "  0.00000000e+00  0.00000000e+00  0.00000000e+00  0.00000000e+00\n",
      "  7.02233944e-07  0.00000000e+00  0.00000000e+00  4.08373119e-07\n",
      " -4.34984622e-07  0.00000000e+00  0.00000000e+00  0.00000000e+00\n",
      " -8.96091347e-07]\n",
      "80 [ 1.59093341e-06  0.00000000e+00  0.00000000e+00  0.00000000e+00\n",
      "  0.00000000e+00  0.00000000e+00 -4.02045208e-08 -0.00000000e+00\n",
      "  0.00000000e+00 -0.00000000e+00  0.00000000e+00  0.00000000e+00\n",
      "  0.00000000e+00  0.00000000e+00 -3.70197157e-07  0.00000000e+00\n",
      "  0.00000000e+00  0.00000000e+00  0.00000000e+00  0.00000000e+00\n",
      " -0.00000000e+00  0.00000000e+00  0.00000000e+00  0.00000000e+00\n",
      "  0.00000000e+00  0.00000000e+00  0.00000000e+00  0.00000000e+00\n",
      "  0.00000000e+00  0.00000000e+00  0.00000000e+00  0.00000000e+00\n",
      "  0.00000000e+00  0.00000000e+00  0.00000000e+00  0.00000000e+00\n",
      "  6.66545126e-07  0.00000000e+00  0.00000000e+00  3.70568926e-07\n",
      " -4.15950369e-07  0.00000000e+00  8.90877966e-09  0.00000000e+00\n",
      " -8.50355912e-07]\n",
      "90 [ 1.40903001e-06  0.00000000e+00  0.00000000e+00  0.00000000e+00\n",
      "  0.00000000e+00  0.00000000e+00 -2.98630651e-08 -0.00000000e+00\n",
      "  0.00000000e+00 -0.00000000e+00  0.00000000e+00  0.00000000e+00\n",
      "  0.00000000e+00  0.00000000e+00 -1.78440619e-07  0.00000000e+00\n",
      "  0.00000000e+00  0.00000000e+00  0.00000000e+00  0.00000000e+00\n",
      " -0.00000000e+00  0.00000000e+00  0.00000000e+00  0.00000000e+00\n",
      "  0.00000000e+00  0.00000000e+00  0.00000000e+00  0.00000000e+00\n",
      "  0.00000000e+00  0.00000000e+00  0.00000000e+00  0.00000000e+00\n",
      "  0.00000000e+00  0.00000000e+00  0.00000000e+00  0.00000000e+00\n",
      "  6.29165781e-07  0.00000000e+00  0.00000000e+00  3.31232325e-07\n",
      " -3.96019001e-07  0.00000000e+00  2.06232153e-08  0.00000000e+00\n",
      " -8.05082625e-07]\n"
     ]
    }
   ],
   "source": [
    "alphas = np.arange(10, 100, 10)\n",
    "scores = np.empty_like(alphas)\n",
    "for i,a in enumerate(alphas):\n",
    "    lasso = linear_model.Lasso()\n",
    "    lasso.set_params(alpha=a)\n",
    "    lasso.fit(x_fs, y_fs)\n",
    "    scores[i] = lasso.score(x_fs, y_fs)\n",
    "    print(a, lasso.coef_)"
   ]
  },
  {
   "cell_type": "code",
   "execution_count": 18,
   "metadata": {},
   "outputs": [
    {
     "data": {
      "text/plain": [
       "Lasso(alpha=60, copy_X=True, fit_intercept=True, max_iter=1000,\n",
       "   normalize=False, positive=False, precompute=False, random_state=None,\n",
       "   selection='cyclic', tol=0.0001, warm_start=False)"
      ]
     },
     "execution_count": 18,
     "metadata": {},
     "output_type": "execute_result"
    }
   ],
   "source": [
    "lasso2 = linear_model.Lasso()\n",
    "lasso2.set_params(alpha=60)\n",
    "lasso2.fit(x_fs, y_fs)"
   ]
  },
  {
   "cell_type": "code",
   "execution_count": 19,
   "metadata": {},
   "outputs": [
    {
     "data": {
      "text/plain": [
       "[('loan_amnt', 1.9519081410503024e-06),\n",
       " ('int_rate', 0.0),\n",
       " ('grade', 0.0),\n",
       " ('sub_grade', 0.0),\n",
       " ('installment', 0.0),\n",
       " ('pymnt_plan', 0.0),\n",
       " ('annual_inc', -6.237772350053021e-08),\n",
       " ('emp_length', -0.0),\n",
       " ('dti', 0.0),\n",
       " ('fico_range_high', -0.0),\n",
       " ('verification_status', 0.0),\n",
       " ('purpose', 0.0),\n",
       " ('home_ownership', 0.0),\n",
       " ('application_type', 0.0),\n",
       " ('avg_cur_bal', -7.36529522858501e-07),\n",
       " ('delinq_2yrs', 0.0),\n",
       " ('delinq_amnt', 0.0),\n",
       " ('earliest_cr_line', 0.0),\n",
       " ('inq_last_12m', 0.0),\n",
       " ('inq_last_6mths', 0.0),\n",
       " ('max_bal_bc', -0.0),\n",
       " ('num_accts_ever_120_pd', 0.0),\n",
       " ('num_actv_bc_tl', 0.0),\n",
       " ('num_bc_tl', 0.0),\n",
       " ('num_il_tl', -0.0),\n",
       " ('num_op_rev_tl', 0.0),\n",
       " ('num_rev_accts', 0.0),\n",
       " ('num_tl_90g_dpd_24m', 0.0),\n",
       " ('open_il_12m', 0.0),\n",
       " ('open_il_24m', 0.0),\n",
       " ('open_act_il', 0.0),\n",
       " ('open_rv_12m', 0.0),\n",
       " ('open_rv_24m', 0.0),\n",
       " ('percent_bc_gt_75', 0.0),\n",
       " ('pub_rec', 0.0),\n",
       " ('pub_rec_bankruptcies', 0.0),\n",
       " ('revol_bal', 7.324955968053954e-07),\n",
       " ('revol_util', 0.0),\n",
       " ('tax_liens', 0.0),\n",
       " ('tot_cur_bal', 4.415246185237722e-07),\n",
       " ('tot_hi_cred_lim', -4.5137704632007733e-07),\n",
       " ('total_acc', 0.0),\n",
       " ('total_bal_ex_mort', 0.0),\n",
       " ('total_bal_il', 0.0),\n",
       " ('total_bc_limit', -9.430773727955176e-07)]"
      ]
     },
     "execution_count": 19,
     "metadata": {},
     "output_type": "execute_result"
    }
   ],
   "source": [
    "list(zip(x, lasso2.coef_))"
   ]
  },
  {
   "cell_type": "code",
   "execution_count": 20,
   "metadata": {},
   "outputs": [],
   "source": [
    "# x with feature selection\n",
    "x_s= x_test[['loan_amnt','annual_inc', 'avg_cur_bal','revol_bal', 'tot_cur_bal', 'tot_hi_cred_lim', 'total_bal_ex_mort', 'total_bc_limit' ]]"
   ]
  },
  {
   "cell_type": "markdown",
   "metadata": {},
   "source": [
    "# Fuction to get Accuracy, Investment Volume, Roi and Profit out of each Probability Model (Training Data)\n"
   ]
  },
  {
   "cell_type": "code",
   "execution_count": 21,
   "metadata": {},
   "outputs": [],
   "source": [
    "def prob_to_output_return(prob, cut_off_value, x, y):\n",
    "    \n",
    "    #probabilities of not default\n",
    "    not_default_p=[]\n",
    "    for e in prob:\n",
    "        not_default_p.append(e[0])\n",
    "        \n",
    "    #get prediction based on cut-off value\n",
    "    logit_p4=[]\n",
    "    for e in not_default_p:\n",
    "        if e > cut_off_value:\n",
    "            logit_p4.append(0)\n",
    "        else:\n",
    "            logit_p4.append(1)\n",
    "            \n",
    "    #convert results into array\n",
    "    logit_p5 = np.asarray(logit_p4)\n",
    "    \n",
    "    #match arrays\n",
    "    log_s1=np.vstack((y, logit_p5))\n",
    "    log_s1\n",
    "    \n",
    "    #convert to python dataframe\n",
    "    log_s2 = pd.DataFrame(data=log_s1)\n",
    "    log_s3= log_s2.transpose()\n",
    "    log_s3.columns = ['outcome', 'prediction']\n",
    "    \n",
    "    \n",
    "    # get total sum loaned\n",
    "    loan_amount1= pd.concat([log_s3, x[['loan_amnt', 'int_rate']]], axis=1)\n",
    "    loan_amount2 =  loan_amount1.loc[loan_amount1['prediction']==0]\n",
    "    loan_amount3= loan_amount2['loan_amnt'].sum()\n",
    "    \n",
    "    #get revenue\n",
    "    revenue1 =  loan_amount2.loc[loan_amount2['outcome']==0]\n",
    "    revenue1['revenue'] = (revenue1.loan_amnt*((1+(revenue1.int_rate/100))**3))-revenue1.loan_amnt\n",
    "    revenue= revenue1['revenue'].sum()\n",
    "\n",
    "    \n",
    "    #get loss\n",
    "    loss1 =  loan_amount2.loc[loan_amount2['outcome']==1]\n",
    "    loss2 =  (loss1['loan_amnt'].sum()) \n",
    "    \n",
    "    #real profit\n",
    "    real_profit=revenue-loss2\n",
    "    \n",
    "    #calculate return output\n",
    "    np.seterr(all='ignore')\n",
    "    miss = loan_amount2['outcome'].sum()\n",
    "    accuracy = (len(loan_amount2.index)-miss)/len(loan_amount2.index)\n",
    "    default_rate = 1-accuracy\n",
    "    volume = loan_amount3\n",
    "    annual_roi =(1+((revenue-loss2)/loan_amount3))**0.33\n",
    "    profit = revenue-loss2\n",
    "    return(accuracy, volume, profit, annual_roi, default_rate)\n",
    "    \n"
   ]
  },
  {
   "cell_type": "markdown",
   "metadata": {},
   "source": [
    "# Get cutoff value that max profits (Training Data)"
   ]
  },
  {
   "cell_type": "code",
   "execution_count": 22,
   "metadata": {},
   "outputs": [],
   "source": [
    "def profit_maximalising_cuttoff_value(prob,x,y):\n",
    "#test for a range of values\n",
    "    results=[]\n",
    "    for e in range(1, 101, 1):\n",
    "        results.append(prob_to_output_return(prob, (e/100),x, y ))\n",
    "\n",
    "    #get output into lists in order to plot    \n",
    "    acc=[]\n",
    "    vol=[]\n",
    "    access_roi=[]\n",
    "    profit=[]\n",
    "    roi=[]\n",
    "    de=[]\n",
    "    for e in results:\n",
    "        acc.append(e[0])\n",
    "        vol.append(e[1])\n",
    "        profit.append(e[2])\n",
    "        roi.append(e[3])\n",
    "        de.append(e[4])    \n",
    "    \n",
    "    print('cutoff value:',profit.index(max(profit)), '      Investment Amount:',vol[profit.index(max(profit))],'      profit:', round(max(profit),2), '      roi:',roi[profit.index(max(profit))]   )\n",
    "    \n",
    "    "
   ]
  },
  {
   "cell_type": "code",
   "execution_count": 23,
   "metadata": {},
   "outputs": [],
   "source": [
    "def profit_maximalising_print(prob):\n",
    "#test for a range of values\n",
    "    results=[]\n",
    "    for e in range(0, 100, 1):\n",
    "        results.append(prob_to_output_return(prob, (e/100)))\n",
    "    "
   ]
  },
  {
   "cell_type": "markdown",
   "metadata": {},
   "source": [
    "# Visualisation"
   ]
  },
  {
   "cell_type": "code",
   "execution_count": 24,
   "metadata": {},
   "outputs": [],
   "source": [
    "def plot(prob,x,y):\n",
    "#test for a range of values\n",
    "    results=[]\n",
    "    for e in range(0, 100, 1):\n",
    "        results.append(prob_to_output_return(prob, (e/100),x, y ))\n",
    "\n",
    "    #get output into lists in order to plot    \n",
    "    acc=[]\n",
    "    vol=[]\n",
    "    access_roi=[]\n",
    "    profit=[]\n",
    "    roi=[]\n",
    "    de=[]\n",
    "    for e in results:\n",
    "        acc.append(e[0])\n",
    "        vol.append(e[1])\n",
    "        profit.append(e[2])\n",
    "        roi.append(e[3])\n",
    "        de.append(e[4]) \n",
    "        \n",
    "    plt.plot(profit)\n",
    "    plt.axis([0,100,0,100000000])\n",
    "    plt.title('Profit')\n",
    "    plt.show()\n",
    "    \n",
    "    plt.plot(roi)\n",
    "    plt.axis([0,100,1.05,1.15])\n",
    "    plt.title('Return on Investment')   \n",
    "    plt.show()\n",
    "    \n",
    "    plt.plot(vol)\n",
    "    plt.axis([0,100, 0, 500000000])\n",
    "    plt.title('Investment Volume')  \n",
    "    plt.show()\n",
    "    \n",
    "    plt.plot(de)\n",
    "    plt.axis([0,100,0,0.2])\n",
    "    plt.title('Default Rate')      \n",
    "    plt.show()"
   ]
  },
  {
   "cell_type": "markdown",
   "metadata": {},
   "source": [
    "# LDA (Training Data)"
   ]
  },
  {
   "cell_type": "code",
   "execution_count": 25,
   "metadata": {},
   "outputs": [
    {
     "data": {
      "text/plain": [
       "array([[0.84174182, 0.15825818],\n",
       "       [0.93804252, 0.06195748],\n",
       "       [0.93793241, 0.06206759],\n",
       "       ...,\n",
       "       [0.7631624 , 0.2368376 ],\n",
       "       [0.93491643, 0.06508357],\n",
       "       [0.95460698, 0.04539302]])"
      ]
     },
     "execution_count": 25,
     "metadata": {},
     "output_type": "execute_result"
    }
   ],
   "source": [
    "# linear discriminate analysis full model\n",
    "from sklearn.discriminant_analysis import LinearDiscriminantAnalysis\n",
    "lda = LinearDiscriminantAnalysis()\n",
    "lda_p = cross_val_predict(lda, x_test, y_test, cv=10, method='predict_proba')\n",
    "lda_p"
   ]
  },
  {
   "cell_type": "code",
   "execution_count": 29,
   "metadata": {},
   "outputs": [
    {
     "name": "stderr",
     "output_type": "stream",
     "text": [
      "/anaconda3/lib/python3.6/site-packages/ipykernel_launcher.py:36: SettingWithCopyWarning: \n",
      "A value is trying to be set on a copy of a slice from a DataFrame.\n",
      "Try using .loc[row_indexer,col_indexer] = value instead\n",
      "\n",
      "See the caveats in the documentation: http://pandas.pydata.org/pandas-docs/stable/indexing.html#indexing-view-versus-copy\n"
     ]
    },
    {
     "name": "stdout",
     "output_type": "stream",
     "text": [
      "cutoff value: 76       Investment Amount: 258683300.0       profit: 54855391.05       roi: 1.0655222106782265\n"
     ]
    }
   ],
   "source": [
    "# linear discriminate analysis with feature selection\n",
    "lda2 = LinearDiscriminantAnalysis()\n",
    "lda_p2 = cross_val_predict(lda, x_s, y_test, cv=10, method='predict_proba')\n",
    "profit_maximalising_cuttoff_value(lda_p2, x_test,y_test)"
   ]
  },
  {
   "cell_type": "markdown",
   "metadata": {},
   "source": [
    "# Logit (Training Data)"
   ]
  },
  {
   "cell_type": "code",
   "execution_count": 31,
   "metadata": {},
   "outputs": [
    {
     "name": "stderr",
     "output_type": "stream",
     "text": [
      "/anaconda3/lib/python3.6/site-packages/ipykernel_launcher.py:36: SettingWithCopyWarning: \n",
      "A value is trying to be set on a copy of a slice from a DataFrame.\n",
      "Try using .loc[row_indexer,col_indexer] = value instead\n",
      "\n",
      "See the caveats in the documentation: http://pandas.pydata.org/pandas-docs/stable/indexing.html#indexing-view-versus-copy\n"
     ]
    },
    {
     "name": "stdout",
     "output_type": "stream",
     "text": [
      "cutoff value: 75       Investment Amount: 251681275.0       profit: 56005857.65       roi: 1.0685510653545192\n"
     ]
    }
   ],
   "source": [
    "# logit full model\n",
    "from sklearn.linear_model import LogisticRegression\n",
    "logit = LogisticRegression()\n",
    "logit_p = cross_val_predict(logit, x_test, y_test, cv=10, method='predict_proba')\n",
    "profit_maximalising_cuttoff_value(logit_p, x_test, y_test)"
   ]
  },
  {
   "cell_type": "code",
   "execution_count": 39,
   "metadata": {},
   "outputs": [
    {
     "name": "stderr",
     "output_type": "stream",
     "text": [
      "/anaconda3/lib/python3.6/site-packages/ipykernel_launcher.py:36: SettingWithCopyWarning: \n",
      "A value is trying to be set on a copy of a slice from a DataFrame.\n",
      "Try using .loc[row_indexer,col_indexer] = value instead\n",
      "\n",
      "See the caveats in the documentation: http://pandas.pydata.org/pandas-docs/stable/indexing.html#indexing-view-versus-copy\n"
     ]
    },
    {
     "name": "stdout",
     "output_type": "stream",
     "text": [
      "cutoff value: 59       Investment Amount: 260102100.0       profit: 54867017.56       roi: 1.0651995099837654\n"
     ]
    }
   ],
   "source": [
    "# logit reduced model\n",
    "from sklearn.linear_model import LogisticRegression\n",
    "logit_p2 = cross_val_predict(logit, x_s, y_test, cv=10, method='predict_proba')\n",
    "profit_maximalising_cuttoff_value(logit_p2, x_test, y_test)"
   ]
  },
  {
   "cell_type": "markdown",
   "metadata": {},
   "source": [
    "# Gradient Boosting (Training Data)"
   ]
  },
  {
   "cell_type": "code",
   "execution_count": 28,
   "metadata": {},
   "outputs": [
    {
     "name": "stderr",
     "output_type": "stream",
     "text": [
      "/anaconda3/lib/python3.6/site-packages/ipykernel_launcher.py:36: SettingWithCopyWarning: \n",
      "A value is trying to be set on a copy of a slice from a DataFrame.\n",
      "Try using .loc[row_indexer,col_indexer] = value instead\n",
      "\n",
      "See the caveats in the documentation: http://pandas.pydata.org/pandas-docs/stable/indexing.html#indexing-view-versus-copy\n"
     ]
    },
    {
     "name": "stdout",
     "output_type": "stream",
     "text": [
      "cutoff value: 68       Investment Amount: 245688275.0       profit: 58768982.14       roi: 1.0733387947909803\n"
     ]
    }
   ],
   "source": [
    "from sklearn import ensemble\n",
    "gbr = ensemble.GradientBoostingClassifier()\n",
    "gbr_p = cross_val_predict(gbr, x_test, y_test, cv=10, method='predict_proba')\n",
    "profit_maximalising_cuttoff_value(gbr_p, x_test, y_test)"
   ]
  },
  {
   "cell_type": "code",
   "execution_count": 29,
   "metadata": {},
   "outputs": [
    {
     "name": "stderr",
     "output_type": "stream",
     "text": [
      "/anaconda3/lib/python3.6/site-packages/ipykernel_launcher.py:36: SettingWithCopyWarning: \n",
      "A value is trying to be set on a copy of a slice from a DataFrame.\n",
      "Try using .loc[row_indexer,col_indexer] = value instead\n",
      "\n",
      "See the caveats in the documentation: http://pandas.pydata.org/pandas-docs/stable/indexing.html#indexing-view-versus-copy\n"
     ]
    },
    {
     "name": "stdout",
     "output_type": "stream",
     "text": [
      "cutoff value: 67       Investment Amount: 259093025.0       profit: 56674848.35       roi: 1.0674585811608455\n"
     ]
    }
   ],
   "source": [
    "from sklearn import ensemble\n",
    "gbr_p2 = cross_val_predict(gbr, x_s, y_test, cv=10, method='predict_proba')\n",
    "profit_maximalising_cuttoff_value(gbr_p2, x_test, y_test)"
   ]
  },
  {
   "cell_type": "markdown",
   "metadata": {},
   "source": [
    "# Random Forrest (Training Data)"
   ]
  },
  {
   "cell_type": "code",
   "execution_count": 43,
   "metadata": {},
   "outputs": [
    {
     "name": "stderr",
     "output_type": "stream",
     "text": [
      "/anaconda3/lib/python3.6/site-packages/ipykernel_launcher.py:36: SettingWithCopyWarning: \n",
      "A value is trying to be set on a copy of a slice from a DataFrame.\n",
      "Try using .loc[row_indexer,col_indexer] = value instead\n",
      "\n",
      "See the caveats in the documentation: http://pandas.pydata.org/pandas-docs/stable/indexing.html#indexing-view-versus-copy\n"
     ]
    },
    {
     "name": "stdout",
     "output_type": "stream",
     "text": [
      "cutoff value: 73       Investment Amount: 252303325.0       profit: 56463596.87       roi: 1.0689159859849693\n"
     ]
    },
    {
     "name": "stderr",
     "output_type": "stream",
     "text": [
      "/anaconda3/lib/python3.6/site-packages/ipykernel_launcher.py:49: RuntimeWarning: invalid value encountered in double_scalars\n",
      "/anaconda3/lib/python3.6/site-packages/ipykernel_launcher.py:52: RuntimeWarning: invalid value encountered in double_scalars\n"
     ]
    }
   ],
   "source": [
    "from sklearn.ensemble import RandomForestClassifier\n",
    "rfc = RandomForestClassifier( max_depth=4,random_state=0)\n",
    "rfc_p = cross_val_predict(rfc, x_test, y_test, cv=10, method='predict_proba')\n",
    "profit_maximalising_cuttoff_value(rfc_p,x_test, y_test)"
   ]
  },
  {
   "cell_type": "code",
   "execution_count": 48,
   "metadata": {},
   "outputs": [
    {
     "name": "stderr",
     "output_type": "stream",
     "text": [
      "/anaconda3/lib/python3.6/site-packages/ipykernel_launcher.py:36: SettingWithCopyWarning: \n",
      "A value is trying to be set on a copy of a slice from a DataFrame.\n",
      "Try using .loc[row_indexer,col_indexer] = value instead\n",
      "\n",
      "See the caveats in the documentation: http://pandas.pydata.org/pandas-docs/stable/indexing.html#indexing-view-versus-copy\n",
      "/anaconda3/lib/python3.6/site-packages/ipykernel_launcher.py:49: RuntimeWarning: invalid value encountered in double_scalars\n",
      "/anaconda3/lib/python3.6/site-packages/ipykernel_launcher.py:52: RuntimeWarning: invalid value encountered in double_scalars\n"
     ]
    },
    {
     "name": "stdout",
     "output_type": "stream",
     "text": [
      "cutoff value: 76       Investment Amount: 259998725.0       profit: 54874428.0       roi: 1.065232128825325\n"
     ]
    }
   ],
   "source": [
    "rfc = RandomForestClassifier( max_depth=4,random_state=0)\n",
    "rfc_p = cross_val_predict(rfc, x_s, y_test, cv=10, method='predict_proba')\n",
    "profit_maximalising_cuttoff_value(rfc_p,x_test, y_test)"
   ]
  },
  {
   "cell_type": "markdown",
   "metadata": {},
   "source": [
    "# Test (out-of-sample)"
   ]
  },
  {
   "cell_type": "code",
   "execution_count": 30,
   "metadata": {},
   "outputs": [],
   "source": [
    "#data set pre prepartation\n",
    "df2_30 =  df2[df2['term']==36]\n",
    "df2_30 = pd.get_dummies(df2_30, columns=['loan_status'])\n",
    "df2_30=df2_30.drop(['loan_status_Current'], axis=1)\n",
    "y_t = df2_30.loan_status_Fail\n",
    "x_t =df2_30.drop(['id', 'loan_status_Fail', 'term'], axis=1)"
   ]
  },
  {
   "cell_type": "code",
   "execution_count": 51,
   "metadata": {},
   "outputs": [
    {
     "data": {
      "text/plain": [
       "LinearDiscriminantAnalysis(n_components=None, priors=None, shrinkage=None,\n",
       "              solver='svd', store_covariance=False, tol=0.0001)"
      ]
     },
     "execution_count": 51,
     "metadata": {},
     "output_type": "execute_result"
    }
   ],
   "source": [
    "lda_vali = LinearDiscriminantAnalysis()\n",
    "lda_vali.fit(x,y)"
   ]
  },
  {
   "cell_type": "code",
   "execution_count": null,
   "metadata": {},
   "outputs": [],
   "source": [
    "#grade0\n",
    "vali_grade0 = df2_30[df2_30['grade']==0]\n",
    "x_vali_grade0 = x_t[x_t['grade']==0]\n",
    "y_vali_grade0 = vali_grade0.loan_status_Fail\n",
    "\n",
    "\n",
    "#grade1\n",
    "vali_grade1 = df2_30[df2_30['grade']==1]\n",
    "x_vali_grade1 = x_t[x_t['grade']==1]\n",
    "y_vali_grade1 = vali_grade1.loan_status_Fail\n",
    "\n",
    "\n",
    "#grade2\n",
    "vali_grade2 = df2_30[df2_30['grade']==2]\n",
    "x_vali_grade2 = x_t[x_t['grade']==2]\n",
    "y_vali_grade2 = vali_grade2.loan_status_Fail\n",
    "\n",
    "\n",
    "#grade3\n",
    "vali_grade3 = df2_30[df2_30['grade']==3]\n",
    "x_vali_grade3 = x_t[x_t['grade']==3]\n",
    "y_vali_grade3 = vali_grade3.loan_status_Fail\n",
    "\n",
    "\n",
    "#grade4\n",
    "vali_grade4= df2_30[df2_30['grade']==4]\n",
    "x_vali_grade4 = x_t[x_t['grade']==4]\n",
    "y_vali_grade4 = vali_grade4.loan_status_Fail\n",
    "\n",
    "#grade5\n",
    "vali_grade5= df2_30[df2_30['grade']==5]\n",
    "x_vali_grade5 = x_t[x_t['grade']==5]\n",
    "y_vali_grade5 = vali_grade5.loan_status_Fail\n",
    "\n",
    "#grade6\n",
    "vali_grade6= df2_30[df2_30['grade']==6]\n",
    "x_vali_grade6= x_t[x_t['grade']==6]\n",
    "y_vali_grade6 = vali_grade6.loan_status_Fail"
   ]
  },
  {
   "cell_type": "code",
   "execution_count": 48,
   "metadata": {},
   "outputs": [
    {
     "name": "stderr",
     "output_type": "stream",
     "text": [
      "/anaconda3/lib/python3.6/site-packages/ipykernel_launcher.py:36: SettingWithCopyWarning: \n",
      "A value is trying to be set on a copy of a slice from a DataFrame.\n",
      "Try using .loc[row_indexer,col_indexer] = value instead\n",
      "\n",
      "See the caveats in the documentation: http://pandas.pydata.org/pandas-docs/stable/indexing.html#indexing-view-versus-copy\n"
     ]
    },
    {
     "data": {
      "text/plain": [
       "(0.9098674756506466,\n",
       " 339591700.0,\n",
       " 87528891.94517022,\n",
       " 1.078613461350688,\n",
       " 0.09013252434935337)"
      ]
     },
     "execution_count": 48,
     "metadata": {},
     "output_type": "execute_result"
    }
   ],
   "source": [
    "#startegy 1\n",
    "gbr_vali = ensemble.GradientBoostingClassifier()\n",
    "gbr_vali.fit(x,y)\n",
    "vali_gbr = gbr_vali.predict_proba(x_t)\n",
    "prob_to_output_return(vali_gbr, 0.68, x_t, y_t)"
   ]
  },
  {
   "cell_type": "code",
   "execution_count": 53,
   "metadata": {},
   "outputs": [
    {
     "name": "stderr",
     "output_type": "stream",
     "text": [
      "/anaconda3/lib/python3.6/site-packages/ipykernel_launcher.py:36: SettingWithCopyWarning: \n",
      "A value is trying to be set on a copy of a slice from a DataFrame.\n",
      "Try using .loc[row_indexer,col_indexer] = value instead\n",
      "\n",
      "See the caveats in the documentation: http://pandas.pydata.org/pandas-docs/stable/indexing.html#indexing-view-versus-copy\n"
     ]
    },
    {
     "data": {
      "text/plain": [
       "(0.9559516714525654,\n",
       " 166613675.0,\n",
       " 53118658.819463566,\n",
       " 1.0956213766139131,\n",
       " 0.04404832854743457)"
      ]
     },
     "execution_count": 53,
     "metadata": {},
     "output_type": "execute_result"
    }
   ],
   "source": [
    "#startegy 2\n",
    "prob_to_output_return(vali_gbr, 0.9, x_t, y_t)"
   ]
  },
  {
   "cell_type": "code",
   "execution_count": 59,
   "metadata": {},
   "outputs": [
    {
     "name": "stderr",
     "output_type": "stream",
     "text": [
      "/anaconda3/lib/python3.6/site-packages/ipykernel_launcher.py:36: SettingWithCopyWarning: \n",
      "A value is trying to be set on a copy of a slice from a DataFrame.\n",
      "Try using .loc[row_indexer,col_indexer] = value instead\n",
      "\n",
      "See the caveats in the documentation: http://pandas.pydata.org/pandas-docs/stable/indexing.html#indexing-view-versus-copy\n"
     ]
    },
    {
     "data": {
      "text/plain": [
       "(0.9757295579312337,\n",
       " 62222850.0,\n",
       " 21660283.0007097,\n",
       " 1.1035935800112686,\n",
       " 0.024270442068766274)"
      ]
     },
     "execution_count": 59,
     "metadata": {},
     "output_type": "execute_result"
    }
   ],
   "source": [
    "\n",
    "#strategy 3\n",
    "prob_to_output_return(vali_gbr, 0.95, x_t, y_t)"
   ]
  },
  {
   "cell_type": "code",
   "execution_count": 55,
   "metadata": {},
   "outputs": [
    {
     "name": "stderr",
     "output_type": "stream",
     "text": [
      "/anaconda3/lib/python3.6/site-packages/ipykernel_launcher.py:36: SettingWithCopyWarning: \n",
      "A value is trying to be set on a copy of a slice from a DataFrame.\n",
      "Try using .loc[row_indexer,col_indexer] = value instead\n",
      "\n",
      "See the caveats in the documentation: http://pandas.pydata.org/pandas-docs/stable/indexing.html#indexing-view-versus-copy\n"
     ]
    }
   ],
   "source": [
    "#prepare data to plot in R\n",
    "    results=[]\n",
    "    for e in range(1, 101, 1):\n",
    "        results.append(prob_to_output_return(vali_gbr, (e/100),x_t, y_t ))\n",
    "\n",
    "    #get output into lists in order to plot    \n",
    "    acc=[]\n",
    "    vol=[]\n",
    "    access_roi=[]\n",
    "    profit=[]\n",
    "    roi=[]\n",
    "    de=[]\n",
    "    for e in results:\n",
    "        acc.append(e[0])\n",
    "        vol.append(e[1])\n",
    "        profit.append(e[2])\n",
    "        roi.append(e[3])\n",
    "        de.append(e[4])  "
   ]
  },
  {
   "cell_type": "code",
   "execution_count": 57,
   "metadata": {},
   "outputs": [],
   "source": [
    "#prepare data to plot in R\n",
    "data_tuples2 = list(zip(a, acc,vol, profit, roi, de))\n",
    "aa=pd.DataFrame(data_tuples2, columns=['cutoff','accuracy', 'volumne', 'profit', 'roi', 'default_rate'])\n",
    "aa.to_csv('Gradient_boosting_test.csv')"
   ]
  }
 ],
 "metadata": {
  "kernelspec": {
   "display_name": "Python 3",
   "language": "python",
   "name": "python3"
  },
  "language_info": {
   "codemirror_mode": {
    "name": "ipython",
    "version": 3
   },
   "file_extension": ".py",
   "mimetype": "text/x-python",
   "name": "python",
   "nbconvert_exporter": "python",
   "pygments_lexer": "ipython3",
   "version": "3.6.5"
  }
 },
 "nbformat": 4,
 "nbformat_minor": 2
}
